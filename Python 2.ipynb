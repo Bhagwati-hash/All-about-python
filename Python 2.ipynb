{
 "cells": [
  {
   "cell_type": "code",
   "execution_count": 1,
   "id": "abbb8c38",
   "metadata": {},
   "outputs": [
    {
     "name": "stdout",
     "output_type": "stream",
     "text": [
      "True False\n"
     ]
    }
   ],
   "source": [
    "#boolen ,logical variable,list,dictionaries,tuples\n",
    "#boolen true or false other variables can also be consider as  boolean variable\n",
    "#true is 1 and false is 0\n",
    "print(True,False)"
   ]
  },
  {
   "cell_type": "code",
   "execution_count": 2,
   "id": "6d471739",
   "metadata": {},
   "outputs": [
    {
     "name": "stdout",
     "output_type": "stream",
     "text": [
      "True\n"
     ]
    }
   ],
   "source": [
    "my_string=\"Bhagwati18\"\n",
    "print(my_string.isalnum())"
   ]
  },
  {
   "cell_type": "code",
   "execution_count": 3,
   "id": "ea76bc0e",
   "metadata": {},
   "outputs": [
    {
     "name": "stdout",
     "output_type": "stream",
     "text": [
      "True\n"
     ]
    }
   ],
   "source": [
    "print(my_string.startswith(\"B\"))"
   ]
  },
  {
   "cell_type": "code",
   "execution_count": 4,
   "id": "7fc33df1",
   "metadata": {},
   "outputs": [
    {
     "name": "stdout",
     "output_type": "stream",
     "text": [
      "Bhagwati18\n"
     ]
    }
   ],
   "source": [
    "print(my_string.capitalize())\n",
    "#capitalize only first alphabet of any sring"
   ]
  },
  {
   "cell_type": "code",
   "execution_count": 5,
   "id": "f89dd105",
   "metadata": {},
   "outputs": [
    {
     "name": "stdout",
     "output_type": "stream",
     "text": [
      "3\n"
     ]
    }
   ],
   "source": [
    "print(my_string.rfind(\"g\"))\n",
    "#it will return the highest index in the string where the character g is found"
   ]
  },
  {
   "cell_type": "code",
   "execution_count": 6,
   "id": "e9d966f7",
   "metadata": {},
   "outputs": [
    {
     "name": "stdout",
     "output_type": "stream",
     "text": [
      "b'Bhagwati18'\n"
     ]
    }
   ],
   "source": [
    "print(my_string.encode())\n",
    "#b\" is for unicode "
   ]
  },
  {
   "cell_type": "code",
   "execution_count": 7,
   "id": "a3d38f39",
   "metadata": {},
   "outputs": [
    {
     "name": "stdout",
     "output_type": "stream",
     "text": [
      "True\n"
     ]
    }
   ],
   "source": [
    "#boolean and logical operaters\n",
    "my_string=\"Bhagwati 18\"\n",
    "my1_string=\"Tejas\"\n",
    "print((my_string.isalpha())or(my1_string.isalpha()))"
   ]
  },
  {
   "cell_type": "code",
   "execution_count": 8,
   "id": "2c6abfd4",
   "metadata": {},
   "outputs": [
    {
     "data": {
      "text/plain": [
       "list"
      ]
     },
     "execution_count": 8,
     "metadata": {},
     "output_type": "execute_result"
    }
   ],
   "source": [
    "#list is a data strcture in python which are mutable and changeable ,ordered sequence of elements each value which is inside a list\n",
    "#is called item.as in the string  are defined as characters with in the quotes list are defined having values between the square brackets\n",
    "type([\"name\"])"
   ]
  },
  {
   "cell_type": "code",
   "execution_count": 9,
   "id": "bd0067a0",
   "metadata": {},
   "outputs": [
    {
     "data": {
      "text/plain": [
       "list"
      ]
     },
     "execution_count": 9,
     "metadata": {},
     "output_type": "execute_result"
    }
   ],
   "source": [
    "type([\" bhagwti\",\"tejas\",\"ishwer\"])"
   ]
  },
  {
   "cell_type": "code",
   "execution_count": 10,
   "id": "663d362d",
   "metadata": {},
   "outputs": [],
   "source": [
    "lst=list()"
   ]
  },
  {
   "cell_type": "code",
   "execution_count": 11,
   "id": "e8475120",
   "metadata": {},
   "outputs": [],
   "source": [
    "lst=[\"bhagwtai\",\"tejas\",\"mahi\",1,4,5,7,True,False]"
   ]
  },
  {
   "cell_type": "code",
   "execution_count": 12,
   "id": "73fcc89d",
   "metadata": {},
   "outputs": [
    {
     "name": "stdout",
     "output_type": "stream",
     "text": [
      "['bhagwtai', 'tejas', 'mahi', 1, 4, 5, 7, True, False]\n"
     ]
    }
   ],
   "source": [
    "print(lst)"
   ]
  },
  {
   "cell_type": "code",
   "execution_count": 13,
   "id": "31feb87e",
   "metadata": {},
   "outputs": [
    {
     "data": {
      "text/plain": [
       "9"
      ]
     },
     "execution_count": 13,
     "metadata": {},
     "output_type": "execute_result"
    }
   ],
   "source": [
    "len(lst)"
   ]
  },
  {
   "cell_type": "code",
   "execution_count": 14,
   "id": "b1746935",
   "metadata": {},
   "outputs": [],
   "source": [
    "#append function is used to add more items in the list at the end\n",
    "lst.append(\"vandana\")\n",
    "\n",
    "lst.append(22)\n",
    "#it will add items to the list at the end one by one it takes only one item at one time"
   ]
  },
  {
   "cell_type": "code",
   "execution_count": 15,
   "id": "0e56e121",
   "metadata": {},
   "outputs": [
    {
     "data": {
      "text/plain": [
       "['bhagwtai', 'tejas', 'mahi', 1, 4, 5, 7, True, False, 'vandana', 22]"
      ]
     },
     "execution_count": 15,
     "metadata": {},
     "output_type": "execute_result"
    }
   ],
   "source": [
    "lst"
   ]
  },
  {
   "cell_type": "code",
   "execution_count": 16,
   "id": "24b7100c",
   "metadata": {},
   "outputs": [],
   "source": [
    "# insert function it add items to a list in a specific order\n",
    "lst.insert(2,\"name\")\n",
    "#here 2 is the index number\n"
   ]
  },
  {
   "cell_type": "code",
   "execution_count": 17,
   "id": "0954e319",
   "metadata": {},
   "outputs": [
    {
     "data": {
      "text/plain": [
       "['bhagwtai', 'tejas', 'name', 'mahi', 1, 4, 5, 7, True, False, 'vandana', 22]"
      ]
     },
     "execution_count": 17,
     "metadata": {},
     "output_type": "execute_result"
    }
   ],
   "source": [
    "lst"
   ]
  },
  {
   "cell_type": "code",
   "execution_count": 18,
   "id": "1b154710",
   "metadata": {},
   "outputs": [
    {
     "data": {
      "text/plain": [
       "['bhagwtai', 'tejas', 'name', 'mahi', 1, 4, 5, 7, True, False, 'vandana', 22]"
      ]
     },
     "execution_count": 18,
     "metadata": {},
     "output_type": "execute_result"
    }
   ],
   "source": [
    "lst"
   ]
  },
  {
   "cell_type": "code",
   "execution_count": 19,
   "id": "05de2804",
   "metadata": {},
   "outputs": [
    {
     "data": {
      "text/plain": [
       "5"
      ]
     },
     "execution_count": 19,
     "metadata": {},
     "output_type": "execute_result"
    }
   ],
   "source": [
    "lst[6]\n",
    "# gives element at index 6"
   ]
  },
  {
   "cell_type": "code",
   "execution_count": 20,
   "id": "eab0e5a9",
   "metadata": {},
   "outputs": [],
   "source": [
    "lst.insert(3,\"priya\") \n",
    "#insert also add only one item at one time but it add item to a specific place like here priya will be added at index 3\n"
   ]
  },
  {
   "cell_type": "code",
   "execution_count": 21,
   "id": "cf9abe8b",
   "metadata": {},
   "outputs": [
    {
     "data": {
      "text/plain": [
       "['priya', 'mahi', 1, 4, 5, 7, True, False, 'vandana', 22]"
      ]
     },
     "execution_count": 21,
     "metadata": {},
     "output_type": "execute_result"
    }
   ],
   "source": [
    "lst[ : ]\n",
    "#it will give all the element\n",
    "lst[3:]\n",
    "#it will provide all from index 3 to rest"
   ]
  },
  {
   "cell_type": "code",
   "execution_count": 22,
   "id": "294200e3",
   "metadata": {},
   "outputs": [
    {
     "data": {
      "text/plain": [
       "['bhagwtai', 'tejas', 'name', 'priya', 'mahi', 1, 4]"
      ]
     },
     "execution_count": 22,
     "metadata": {},
     "output_type": "execute_result"
    }
   ],
   "source": [
    "lst[:7]\n",
    "#it will not take last element"
   ]
  },
  {
   "cell_type": "code",
   "execution_count": 23,
   "id": "84b11758",
   "metadata": {},
   "outputs": [],
   "source": [
    "lst.append([\"john\",\"paras\"])\n",
    "#it will create a nested list\n"
   ]
  },
  {
   "cell_type": "code",
   "execution_count": 24,
   "id": "4586e435",
   "metadata": {},
   "outputs": [
    {
     "data": {
      "text/plain": [
       "['bhagwtai',\n",
       " 'tejas',\n",
       " 'name',\n",
       " 'priya',\n",
       " 'mahi',\n",
       " 1,\n",
       " 4,\n",
       " 5,\n",
       " 7,\n",
       " True,\n",
       " False,\n",
       " 'vandana',\n",
       " 22,\n",
       " ['john', 'paras']]"
      ]
     },
     "execution_count": 24,
     "metadata": {},
     "output_type": "execute_result"
    }
   ],
   "source": [
    "lst"
   ]
  },
  {
   "cell_type": "code",
   "execution_count": 25,
   "id": "9f35e7a7",
   "metadata": {},
   "outputs": [],
   "source": [
    "#if we want to add a list as all te items should be added seperately\n",
    "lst.extend([\"john\",\"pars\"])"
   ]
  },
  {
   "cell_type": "code",
   "execution_count": 26,
   "id": "17b26446",
   "metadata": {},
   "outputs": [
    {
     "data": {
      "text/plain": [
       "['bhagwtai',\n",
       " 'tejas',\n",
       " 'name',\n",
       " 'priya',\n",
       " 'mahi',\n",
       " 1,\n",
       " 4,\n",
       " 5,\n",
       " 7,\n",
       " True,\n",
       " False,\n",
       " 'vandana',\n",
       " 22,\n",
       " ['john', 'paras'],\n",
       " 'john',\n",
       " 'pars']"
      ]
     },
     "execution_count": 26,
     "metadata": {},
     "output_type": "execute_result"
    }
   ],
   "source": [
    "lst"
   ]
  },
  {
   "cell_type": "code",
   "execution_count": 27,
   "id": "a8fb9215",
   "metadata": {},
   "outputs": [
    {
     "data": {
      "text/plain": [
       "20"
      ]
     },
     "execution_count": 27,
     "metadata": {},
     "output_type": "execute_result"
    }
   ],
   "source": [
    "# some operations on the list\n",
    "list_new=[1,4,3,5,7]\n",
    "sum(list_new)"
   ]
  },
  {
   "cell_type": "code",
   "execution_count": 28,
   "id": "d561ea23",
   "metadata": {},
   "outputs": [
    {
     "data": {
      "text/plain": [
       "7"
      ]
     },
     "execution_count": 28,
     "metadata": {},
     "output_type": "execute_result"
    }
   ],
   "source": [
    "list_new.pop()\n",
    "#by defoult will take last item"
   ]
  },
  {
   "cell_type": "code",
   "execution_count": 29,
   "id": "e69ee9a4",
   "metadata": {},
   "outputs": [
    {
     "data": {
      "text/plain": [
       "[1, 4, 3, 5]"
      ]
     },
     "execution_count": 29,
     "metadata": {},
     "output_type": "execute_result"
    }
   ],
   "source": [
    "list_new"
   ]
  },
  {
   "cell_type": "code",
   "execution_count": 30,
   "id": "770bbb88",
   "metadata": {},
   "outputs": [
    {
     "data": {
      "text/plain": [
       "3"
      ]
     },
     "execution_count": 30,
     "metadata": {},
     "output_type": "execute_result"
    }
   ],
   "source": [
    "list_new.pop(2)\n",
    "#it will drop 3 item "
   ]
  },
  {
   "cell_type": "code",
   "execution_count": 31,
   "id": "a594c58a",
   "metadata": {},
   "outputs": [
    {
     "data": {
      "text/plain": [
       "[1, 4, 5]"
      ]
     },
     "execution_count": 31,
     "metadata": {},
     "output_type": "execute_result"
    }
   ],
   "source": [
    "list_new"
   ]
  },
  {
   "cell_type": "code",
   "execution_count": 32,
   "id": "5040d52c",
   "metadata": {},
   "outputs": [
    {
     "data": {
      "text/plain": [
       "1"
      ]
     },
     "execution_count": 32,
     "metadata": {},
     "output_type": "execute_result"
    }
   ],
   "source": [
    "#count calculate total occurence of desired item in the list\n",
    "list_new.count(1)"
   ]
  },
  {
   "cell_type": "code",
   "execution_count": 33,
   "id": "91b406bd",
   "metadata": {},
   "outputs": [
    {
     "data": {
      "text/plain": [
       "1"
      ]
     },
     "execution_count": 33,
     "metadata": {},
     "output_type": "execute_result"
    }
   ],
   "source": [
    "list_new.index(4,0,2)\n",
    "# .index(value,index)"
   ]
  },
  {
   "cell_type": "code",
   "execution_count": 34,
   "id": "47895385",
   "metadata": {},
   "outputs": [
    {
     "data": {
      "text/plain": [
       "2"
      ]
     },
     "execution_count": 34,
     "metadata": {},
     "output_type": "execute_result"
    }
   ],
   "source": [
    "list_new.index(5)\n"
   ]
  },
  {
   "cell_type": "code",
   "execution_count": 35,
   "id": "ea55a884",
   "metadata": {},
   "outputs": [
    {
     "data": {
      "text/plain": [
       "1"
      ]
     },
     "execution_count": 35,
     "metadata": {},
     "output_type": "execute_result"
    }
   ],
   "source": [
    "min(list_new)"
   ]
  },
  {
   "cell_type": "code",
   "execution_count": 36,
   "id": "8b7c4946",
   "metadata": {},
   "outputs": [
    {
     "data": {
      "text/plain": [
       "5"
      ]
     },
     "execution_count": 36,
     "metadata": {},
     "output_type": "execute_result"
    }
   ],
   "source": [
    "max(list_new)"
   ]
  },
  {
   "cell_type": "code",
   "execution_count": 37,
   "id": "6b21426f",
   "metadata": {},
   "outputs": [
    {
     "data": {
      "text/plain": [
       "[1, 4, 5, 1, 4, 5, 1, 4, 5, 1, 4, 5, 1, 4, 5]"
      ]
     },
     "execution_count": 37,
     "metadata": {},
     "output_type": "execute_result"
    }
   ],
   "source": [
    "list_new*5\n",
    "#it means it will print the same list 5 times"
   ]
  },
  {
   "cell_type": "code",
   "execution_count": null,
   "id": "3c167cf6",
   "metadata": {},
   "outputs": [],
   "source": []
  }
 ],
 "metadata": {
  "kernelspec": {
   "display_name": "Python 3",
   "language": "python",
   "name": "python3"
  },
  "language_info": {
   "codemirror_mode": {
    "name": "ipython",
    "version": 3
   },
   "file_extension": ".py",
   "mimetype": "text/x-python",
   "name": "python",
   "nbconvert_exporter": "python",
   "pygments_lexer": "ipython3",
   "version": "3.8.8"
  }
 },
 "nbformat": 4,
 "nbformat_minor": 5
}
