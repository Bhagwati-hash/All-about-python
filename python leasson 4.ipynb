{
 "cells": [
  {
   "cell_type": "code",
   "execution_count": 1,
   "id": "b411ee30",
   "metadata": {},
   "outputs": [],
   "source": [
    "# Numpy is a general purpose array processing package\n",
    "# an array is a datastructure that store values of the same data type whereas list may contain values of different data type\n"
   ]
  },
  {
   "cell_type": "code",
   "execution_count": 2,
   "id": "860531e7",
   "metadata": {},
   "outputs": [],
   "source": [
    "import numpy as np"
   ]
  },
  {
   "cell_type": "code",
   "execution_count": 3,
   "id": "805fb256",
   "metadata": {},
   "outputs": [],
   "source": [
    "my_list=[1,2,3,4,5,6]\n",
    "arr1=np.array(my_list)"
   ]
  },
  {
   "cell_type": "code",
   "execution_count": 4,
   "id": "4b54f689",
   "metadata": {},
   "outputs": [
    {
     "data": {
      "text/plain": [
       "array([1, 2, 3, 4, 5, 6])"
      ]
     },
     "execution_count": 4,
     "metadata": {},
     "output_type": "execute_result"
    }
   ],
   "source": [
    "arr1"
   ]
  },
  {
   "cell_type": "code",
   "execution_count": 5,
   "id": "9dd7d954",
   "metadata": {},
   "outputs": [
    {
     "data": {
      "text/plain": [
       "(6,)"
      ]
     },
     "execution_count": 5,
     "metadata": {},
     "output_type": "execute_result"
    }
   ],
   "source": [
    "arr1.shape"
   ]
  },
  {
   "cell_type": "code",
   "execution_count": 6,
   "id": "5ed0b5d3",
   "metadata": {},
   "outputs": [
    {
     "data": {
      "text/plain": [
       "array([[1, 2, 3],\n",
       "       [4, 5, 6]])"
      ]
     },
     "execution_count": 6,
     "metadata": {},
     "output_type": "execute_result"
    }
   ],
   "source": [
    "arr1.reshape(2,3)"
   ]
  },
  {
   "cell_type": "code",
   "execution_count": 7,
   "id": "eacaed6b",
   "metadata": {},
   "outputs": [],
   "source": [
    "# multinested array\n",
    "my_list1=[1,2,3,4,5]\n",
    "my_list2=[6,7,8,9,10]\n",
    "my_list3=[11,12,13,14,15]"
   ]
  },
  {
   "cell_type": "code",
   "execution_count": 8,
   "id": "bc12d86d",
   "metadata": {},
   "outputs": [],
   "source": [
    "arr2=np.array([my_list1,my_list2,my_list3])"
   ]
  },
  {
   "cell_type": "code",
   "execution_count": 9,
   "id": "4526f593",
   "metadata": {},
   "outputs": [
    {
     "data": {
      "text/plain": [
       "array([[ 1,  2,  3,  4,  5],\n",
       "       [ 6,  7,  8,  9, 10],\n",
       "       [11, 12, 13, 14, 15]])"
      ]
     },
     "execution_count": 9,
     "metadata": {},
     "output_type": "execute_result"
    }
   ],
   "source": [
    "arr2"
   ]
  },
  {
   "cell_type": "code",
   "execution_count": 10,
   "id": "d5b46aa8",
   "metadata": {},
   "outputs": [
    {
     "data": {
      "text/plain": [
       "(3, 5)"
      ]
     },
     "execution_count": 10,
     "metadata": {},
     "output_type": "execute_result"
    }
   ],
   "source": [
    "arr2.shape"
   ]
  },
  {
   "cell_type": "code",
   "execution_count": 11,
   "id": "8cd5b056",
   "metadata": {},
   "outputs": [
    {
     "data": {
      "text/plain": [
       "array([[ 1,  2,  3],\n",
       "       [ 4,  5,  6],\n",
       "       [ 7,  8,  9],\n",
       "       [10, 11, 12],\n",
       "       [13, 14, 15]])"
      ]
     },
     "execution_count": 11,
     "metadata": {},
     "output_type": "execute_result"
    }
   ],
   "source": [
    "arr2.reshape(5,3)"
   ]
  },
  {
   "cell_type": "code",
   "execution_count": 12,
   "id": "6ac271ec",
   "metadata": {},
   "outputs": [],
   "source": [
    "#indexing in array\n",
    "arr=np.array([1,2,3,4,5,6])"
   ]
  },
  {
   "cell_type": "code",
   "execution_count": 13,
   "id": "8b1ff853",
   "metadata": {},
   "outputs": [
    {
     "data": {
      "text/plain": [
       "array([1, 2, 3, 4, 5, 6])"
      ]
     },
     "execution_count": 13,
     "metadata": {},
     "output_type": "execute_result"
    }
   ],
   "source": [
    "arr"
   ]
  },
  {
   "cell_type": "code",
   "execution_count": 14,
   "id": "fa728ce6",
   "metadata": {},
   "outputs": [
    {
     "data": {
      "text/plain": [
       "5"
      ]
     },
     "execution_count": 14,
     "metadata": {},
     "output_type": "execute_result"
    }
   ],
   "source": [
    "arr[4]\n",
    "#retrieving element which has index 4"
   ]
  },
  {
   "cell_type": "code",
   "execution_count": 15,
   "id": "f502a0a5",
   "metadata": {},
   "outputs": [
    {
     "data": {
      "text/plain": [
       "array([[ 1,  2,  3,  4,  5],\n",
       "       [ 6,  7,  8,  9, 10],\n",
       "       [11, 12, 13, 14, 15]])"
      ]
     },
     "execution_count": 15,
     "metadata": {},
     "output_type": "execute_result"
    }
   ],
   "source": [
    "arr2"
   ]
  },
  {
   "cell_type": "code",
   "execution_count": 16,
   "id": "52508db4",
   "metadata": {},
   "outputs": [
    {
     "data": {
      "text/plain": [
       "array([[1, 2, 3, 4],\n",
       "       [6, 7, 8, 9]])"
      ]
     },
     "execution_count": 16,
     "metadata": {},
     "output_type": "execute_result"
    }
   ],
   "source": [
    "#indexing in 2 d array\n",
    "arr2[0:2,0:4]\n",
    "#it will provide first two rows and first 3 columns remember it will only take rows or column 1 before index"
   ]
  },
  {
   "cell_type": "code",
   "execution_count": 17,
   "id": "cc7b8294",
   "metadata": {},
   "outputs": [
    {
     "data": {
      "text/plain": [
       "array([[ 8,  9, 10],\n",
       "       [13, 14, 15]])"
      ]
     },
     "execution_count": 17,
     "metadata": {},
     "output_type": "execute_result"
    }
   ],
   "source": [
    "arr2[1:3,2:5]"
   ]
  },
  {
   "cell_type": "code",
   "execution_count": 19,
   "id": "81bba9e1",
   "metadata": {},
   "outputs": [
    {
     "data": {
      "text/plain": [
       "array([[ 8,  9],\n",
       "       [13, 14]])"
      ]
     },
     "execution_count": 19,
     "metadata": {},
     "output_type": "execute_result"
    }
   ],
   "source": [
    "arr2[1:,2:4]"
   ]
  },
  {
   "cell_type": "code",
   "execution_count": 20,
   "id": "1a74e580",
   "metadata": {},
   "outputs": [
    {
     "data": {
      "text/plain": [
       "array([7, 8, 9])"
      ]
     },
     "execution_count": 20,
     "metadata": {},
     "output_type": "execute_result"
    }
   ],
   "source": [
    "arr2[1,1:4]"
   ]
  },
  {
   "cell_type": "code",
   "execution_count": 21,
   "id": "f424e41a",
   "metadata": {},
   "outputs": [],
   "source": [
    "arr4=np.arange(0,10)"
   ]
  },
  {
   "cell_type": "code",
   "execution_count": 22,
   "id": "355e28aa",
   "metadata": {},
   "outputs": [
    {
     "data": {
      "text/plain": [
       "array([0, 1, 2, 3, 4, 5, 6, 7, 8, 9])"
      ]
     },
     "execution_count": 22,
     "metadata": {},
     "output_type": "execute_result"
    }
   ],
   "source": [
    "arr4"
   ]
  },
  {
   "cell_type": "code",
   "execution_count": 23,
   "id": "e92cfbb6",
   "metadata": {},
   "outputs": [],
   "source": [
    "arr5=np.arange(0,20,step=2)\n",
    "#it will arrange array element with a difference of 2"
   ]
  },
  {
   "cell_type": "code",
   "execution_count": 24,
   "id": "5d4c8015",
   "metadata": {},
   "outputs": [
    {
     "data": {
      "text/plain": [
       "array([ 0,  2,  4,  6,  8, 10, 12, 14, 16, 18])"
      ]
     },
     "execution_count": 24,
     "metadata": {},
     "output_type": "execute_result"
    }
   ],
   "source": [
    "arr5"
   ]
  },
  {
   "cell_type": "code",
   "execution_count": 25,
   "id": "e279a170",
   "metadata": {},
   "outputs": [
    {
     "data": {
      "text/plain": [
       "array([ 0.        ,  0.68965517,  1.37931034,  2.06896552,  2.75862069,\n",
       "        3.44827586,  4.13793103,  4.82758621,  5.51724138,  6.20689655,\n",
       "        6.89655172,  7.5862069 ,  8.27586207,  8.96551724,  9.65517241,\n",
       "       10.34482759, 11.03448276, 11.72413793, 12.4137931 , 13.10344828,\n",
       "       13.79310345, 14.48275862, 15.17241379, 15.86206897, 16.55172414,\n",
       "       17.24137931, 17.93103448, 18.62068966, 19.31034483, 20.        ])"
      ]
     },
     "execution_count": 25,
     "metadata": {},
     "output_type": "execute_result"
    }
   ],
   "source": [
    "np.linspace(0,20,30)\n",
    "#return evenly spaced 30 elements between 0 and 20"
   ]
  },
  {
   "cell_type": "code",
   "execution_count": 26,
   "id": "39bf1275",
   "metadata": {},
   "outputs": [],
   "source": [
    "arr1[2:,]=20\n",
    "#copy function and broad casting\n",
    "#it will replace all element of index2 or afterwords equal to 20"
   ]
  },
  {
   "cell_type": "code",
   "execution_count": 27,
   "id": "09f44b99",
   "metadata": {},
   "outputs": [
    {
     "data": {
      "text/plain": [
       "array([ 1,  2, 20, 20, 20, 20])"
      ]
     },
     "execution_count": 27,
     "metadata": {},
     "output_type": "execute_result"
    }
   ],
   "source": [
    "arr1"
   ]
  },
  {
   "cell_type": "code",
   "execution_count": 28,
   "id": "3bea3a94",
   "metadata": {},
   "outputs": [
    {
     "name": "stdout",
     "output_type": "stream",
     "text": [
      "[ 1  2 20 20 20 20]\n",
      "[  1   2 500 500 500 500]\n"
     ]
    }
   ],
   "source": [
    "#copy how it works\n",
    "print(arr1)\n",
    "arr_1=arr1.copy()\n",
    "arr_1[2:,]=500\n",
    "print(arr_1)\n",
    "#here changes are in only copied array and not in original array"
   ]
  },
  {
   "cell_type": "code",
   "execution_count": 31,
   "id": "a6126428",
   "metadata": {},
   "outputs": [
    {
     "name": "stdout",
     "output_type": "stream",
     "text": [
      "[  1 200 200 200 200 200]\n",
      "[  1 200 200 200 200 200]\n"
     ]
    }
   ],
   "source": [
    "#view \n",
    "#it will make a permanene change in original array\n",
    "print(arr1)\n",
    "arr_1=arr1.view()\n",
    "arr_1[1:,]=200\n",
    "print(arr_1)\n"
   ]
  },
  {
   "cell_type": "code",
   "execution_count": 32,
   "id": "e0370686",
   "metadata": {},
   "outputs": [
    {
     "data": {
      "text/plain": [
       "array([  1, 200, 200, 200, 200, 200])"
      ]
     },
     "execution_count": 32,
     "metadata": {},
     "output_type": "execute_result"
    }
   ],
   "source": [
    "arr_1"
   ]
  },
  {
   "cell_type": "code",
   "execution_count": 33,
   "id": "9276459c",
   "metadata": {},
   "outputs": [
    {
     "data": {
      "text/plain": [
       "array([False,  True,  True,  True,  True,  True])"
      ]
     },
     "execution_count": 33,
     "metadata": {},
     "output_type": "execute_result"
    }
   ],
   "source": [
    "# exploratory data analysis\n",
    "arr_1>100\n"
   ]
  },
  {
   "cell_type": "code",
   "execution_count": 34,
   "id": "96d26e83",
   "metadata": {},
   "outputs": [
    {
     "data": {
      "text/plain": [
       "array([  4, 800, 800, 800, 800, 800])"
      ]
     },
     "execution_count": 34,
     "metadata": {},
     "output_type": "execute_result"
    }
   ],
   "source": [
    "arr_1*4"
   ]
  },
  {
   "cell_type": "code",
   "execution_count": 35,
   "id": "f1e0e84a",
   "metadata": {},
   "outputs": [
    {
     "data": {
      "text/plain": [
       "array([200, 200, 200, 200, 200])"
      ]
     },
     "execution_count": 35,
     "metadata": {},
     "output_type": "execute_result"
    }
   ],
   "source": [
    "arr_1[arr_1>100]\n",
    "#it will show me those elements"
   ]
  },
  {
   "cell_type": "code",
   "execution_count": 36,
   "id": "00963ead",
   "metadata": {},
   "outputs": [
    {
     "data": {
      "text/plain": [
       "array([[0.23666253, 0.62379716, 0.1232417 ],\n",
       "       [0.39349786, 0.58852459, 0.73092706],\n",
       "       [0.96057124, 0.06009468, 0.0818209 ]])"
      ]
     },
     "execution_count": 36,
     "metadata": {},
     "output_type": "execute_result"
    }
   ],
   "source": [
    "#random distribution\n",
    "np.random.rand(3,3)"
   ]
  },
  {
   "cell_type": "code",
   "execution_count": 37,
   "id": "7f2757d5",
   "metadata": {},
   "outputs": [],
   "source": [
    "arr_a=np.random.randn(3,3)\n",
    "#it will provide random array from standard normal distribution"
   ]
  },
  {
   "cell_type": "code",
   "execution_count": 38,
   "id": "8c110fac",
   "metadata": {},
   "outputs": [
    {
     "data": {
      "text/plain": [
       "array([[-0.7722758 ,  1.04210037, -0.26147739],\n",
       "       [ 0.45582913,  1.68035131, -1.16122458],\n",
       "       [ 0.30672395,  0.33921414, -0.35946383]])"
      ]
     },
     "execution_count": 38,
     "metadata": {},
     "output_type": "execute_result"
    }
   ],
   "source": [
    "arr_a"
   ]
  },
  {
   "cell_type": "code",
   "execution_count": 39,
   "id": "94c1a5e0",
   "metadata": {},
   "outputs": [],
   "source": [
    "import seaborn as sns\n",
    "import pandas as pd"
   ]
  },
  {
   "cell_type": "code",
   "execution_count": 40,
   "id": "537bdadb",
   "metadata": {},
   "outputs": [
    {
     "name": "stderr",
     "output_type": "stream",
     "text": [
      "C:\\ProgramData\\Anaconda3\\lib\\site-packages\\seaborn\\distributions.py:2557: FutureWarning: `distplot` is a deprecated function and will be removed in a future version. Please adapt your code to use either `displot` (a figure-level function with similar flexibility) or `histplot` (an axes-level function for histograms).\n",
      "  warnings.warn(msg, FutureWarning)\n"
     ]
    },
    {
     "data": {
      "text/plain": [
       "<AxesSubplot:ylabel='Density'>"
      ]
     },
     "execution_count": 40,
     "metadata": {},
     "output_type": "execute_result"
    },
    {
     "data": {
      "image/png": "[encoded data removed]",
      "text/plain": [
       "<Figure size 432x288 with 1 Axes>"
      ]
     },
     "metadata": {
      "needs_background": "light"
     },
     "output_type": "display_data"
    }
   ],
   "source": [
    "sns.distplot(pd.DataFrame(arr_a.reshape(9,1)))"
   ]
  },
  {
   "cell_type": "code",
   "execution_count": 43,
   "id": "522ca2dd",
   "metadata": {},
   "outputs": [
    {
     "data": {
      "text/plain": [
       "array([[64, 56, 80, 81],\n",
       "       [15, 82, 32, 73],\n",
       "       [ 5, 53, 27,  9],\n",
       "       [43, 91, 17, 92]])"
      ]
     },
     "execution_count": 43,
     "metadata": {},
     "output_type": "execute_result"
    }
   ],
   "source": [
    "np.random.randint(1,100,16).reshape(4,4)\n",
    "#it will randomely select  16 elements between 1 to 100 and make a 4*4 array"
   ]
  },
  {
   "cell_type": "code",
   "execution_count": 44,
   "id": "19afa99d",
   "metadata": {},
   "outputs": [
    {
     "data": {
      "text/plain": [
       "array([9, 9, 0, 2, 8])"
      ]
     },
     "execution_count": 44,
     "metadata": {},
     "output_type": "execute_result"
    }
   ],
   "source": [
    "np.random.randint(0,10,5)"
   ]
  },
  {
   "cell_type": "code",
   "execution_count": 46,
   "id": "bfd0df98",
   "metadata": {},
   "outputs": [
    {
     "data": {
      "text/plain": [
       "array([[0.31003033, 0.87831203, 0.2123071 , 0.45446408, 0.74802084,\n",
       "        0.04164281, 0.90261806, 0.55358463, 0.0312083 , 0.32627621]])"
      ]
     },
     "execution_count": 46,
     "metadata": {},
     "output_type": "execute_result"
    }
   ],
   "source": [
    "#creating random samples\n",
    "np.random.random_sample((1,10))"
   ]
  },
  {
   "cell_type": "code",
   "execution_count": null,
   "id": "d7e33c6c",
   "metadata": {},
   "outputs": [],
   "source": []
  }
 ],
 "metadata": {
  "kernelspec": {
   "display_name": "Python 3",
   "language": "python",
   "name": "python3"
  },
  "language_info": {
   "codemirror_mode": {
    "name": "ipython",
    "version": 3
   },
   "file_extension": ".py",
   "mimetype": "text/x-python",
   "name": "python",
   "nbconvert_exporter": "python",
   "pygments_lexer": "ipython3",
   "version": "3.8.8"
  }
 },
 "nbformat": 4,
 "nbformat_minor": 5
}
