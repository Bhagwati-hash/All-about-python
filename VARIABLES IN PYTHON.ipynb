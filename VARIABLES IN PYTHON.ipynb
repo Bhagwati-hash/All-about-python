{
 "cells": [
  {
   "cell_type": "markdown",
   "id": "01a65087",
   "metadata": {},
   "source": [
    "# variable type /data type"
   ]
  },
  {
   "cell_type": "markdown",
   "id": "5bea00b8",
   "metadata": {},
   "source": [
    "Data stored in memory of many types .  standard data types in python:"
   ]
  },
  {
   "cell_type": "markdown",
   "id": "42da7c18",
   "metadata": {},
   "source": [
    "              Data type          Example\n",
    "              integer             56\n",
    "              float               28.7\n",
    "              string              \"hello world\"\n",
    "              list                [\"b\",23,56,\"g\"]\n",
    "              Dictionary(dict)    {\"a\":1,\"b\":5}\n",
    "              set                 {\"a\",\"b\",23.5,23}\n",
    "              tuple               (\"a\",23,8.78)"
   ]
  },
  {
   "cell_type": "code",
   "execution_count": 2,
   "id": "d04e6fbc",
   "metadata": {},
   "outputs": [
    {
     "name": "stdout",
     "output_type": "stream",
     "text": [
      "integer : 56\n"
     ]
    }
   ],
   "source": [
    "# integer variable\n",
    "a=56\n",
    "print(\"integer :\",  a)"
   ]
  },
  {
   "cell_type": "code",
   "execution_count": 3,
   "id": "7a694ac8",
   "metadata": {},
   "outputs": [
    {
     "name": "stdout",
     "output_type": "stream",
     "text": [
      "float :  56.2\n"
     ]
    }
   ],
   "source": [
    "# float\n",
    "b=56.2\n",
    "print(\"float : \" , b)"
   ]
  },
  {
   "cell_type": "code",
   "execution_count": 5,
   "id": "e3f2941b",
   "metadata": {},
   "outputs": [
    {
     "name": "stdout",
     "output_type": "stream",
     "text": [
      "string :  hello friends\n"
     ]
    }
   ],
   "source": [
    "#string\n",
    "x=\"hello friends\"\n",
    "print(\"string : \" , x)"
   ]
  },
  {
   "cell_type": "code",
   "execution_count": 6,
   "id": "ab802fda",
   "metadata": {},
   "outputs": [
    {
     "name": "stdout",
     "output_type": "stream",
     "text": [
      "list :  ['a', 23, 24.78]\n"
     ]
    }
   ],
   "source": [
    "#list\n",
    "y=[\"a\",23,24.78]\n",
    "print(\"list : \" , y)"
   ]
  },
  {
   "cell_type": "code",
   "execution_count": 8,
   "id": "b178b22a",
   "metadata": {},
   "outputs": [
    {
     "name": "stdout",
     "output_type": "stream",
     "text": [
      "dictionary :  {'bhagwati': 234567, 'sanjay': 45678, 'sandeep': 67849}\n"
     ]
    }
   ],
   "source": [
    "#dict\n",
    "d={\"bhagwati\":234567,\"sanjay\":45678,\"sandeep\":67849}\n",
    "print(\"dictionary : \" , d)"
   ]
  },
  {
   "cell_type": "code",
   "execution_count": 9,
   "id": "cf9128da",
   "metadata": {},
   "outputs": [
    {
     "name": "stdout",
     "output_type": "stream",
     "text": [
      "tuple :  ('b', 'c', 67, 87.9)\n"
     ]
    }
   ],
   "source": [
    "#tuple\n",
    "t=(\"b\",\"c\",67,87.9)\n",
    "print(\"tuple : \" , t)"
   ]
  },
  {
   "cell_type": "code",
   "execution_count": 10,
   "id": "664d08ff",
   "metadata": {},
   "outputs": [
    {
     "name": "stdout",
     "output_type": "stream",
     "text": [
      "set :  {'b', 34.9, 'a', 34}\n"
     ]
    }
   ],
   "source": [
    "#set\n",
    "s={\"a\",\"b\",34,34.9}\n",
    "print( \"set : \" ,s)"
   ]
  },
  {
   "cell_type": "markdown",
   "id": "7d181ce1",
   "metadata": {},
   "source": [
    " Data type\n",
    " "
   ]
  },
  {
   "cell_type": "code",
   "execution_count": 18,
   "id": "69dae9cc",
   "metadata": {},
   "outputs": [
    {
     "name": "stdout",
     "output_type": "stream",
     "text": [
      "Data type of s : <class 'set'>\n",
      "Data type of t : <class 'tuple'>\n",
      "Data type of d : <class 'dict'>\n"
     ]
    }
   ],
   "source": [
    "type(s)\n",
    "print(\"Data type of s :\" , type(s))\n",
    "print(\"Data type of t :\" , type(t))\n",
    "print(\"Data type of d :\" , type(d))"
   ]
  },
  {
   "cell_type": "code",
   "execution_count": null,
   "id": "5bc847d3",
   "metadata": {},
   "outputs": [],
   "source": []
  }
 ],
 "metadata": {
  "kernelspec": {
   "display_name": "Python 3",
   "language": "python",
   "name": "python3"
  },
  "language_info": {
   "codemirror_mode": {
    "name": "ipython",
    "version": 3
   },
   "file_extension": ".py",
   "mimetype": "text/x-python",
   "name": "python",
   "nbconvert_exporter": "python",
   "pygments_lexer": "ipython3",
   "version": "3.8.8"
  }
 },
 "nbformat": 4,
 "nbformat_minor": 5
}
