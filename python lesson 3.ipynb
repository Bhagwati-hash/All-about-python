{
 "cells": [
  {
   "cell_type": "code",
   "execution_count": 1,
   "id": "22f1a89f",
   "metadata": {},
   "outputs": [
    {
     "name": "stdout",
     "output_type": "stream",
     "text": [
      "set()\n"
     ]
    }
   ],
   "source": [
    "# sets is collection of unique objects \n",
    "set_var=set()\n",
    "print(set_var)"
   ]
  },
  {
   "cell_type": "code",
   "execution_count": 4,
   "id": "87f05df7",
   "metadata": {},
   "outputs": [
    {
     "name": "stdout",
     "output_type": "stream",
     "text": [
      "<class 'set'>\n"
     ]
    }
   ],
   "source": [
    "print(type(set_var))"
   ]
  },
  {
   "cell_type": "code",
   "execution_count": 5,
   "id": "d64bae68",
   "metadata": {},
   "outputs": [],
   "source": [
    "set_var={1,2,3,4,2,3,5,6}"
   ]
  },
  {
   "cell_type": "code",
   "execution_count": 6,
   "id": "ae122989",
   "metadata": {},
   "outputs": [
    {
     "data": {
      "text/plain": [
       "{1, 2, 3, 4, 5, 6}"
      ]
     },
     "execution_count": 6,
     "metadata": {},
     "output_type": "execute_result"
    }
   ],
   "source": [
    "set_var"
   ]
  },
  {
   "cell_type": "code",
   "execution_count": 7,
   "id": "96fb18a8",
   "metadata": {},
   "outputs": [],
   "source": [
    "set_var={\"bhagwati\",\"tejas\",\"dhriti\",\"arjun\"}"
   ]
  },
  {
   "cell_type": "code",
   "execution_count": 8,
   "id": "0b6feca6",
   "metadata": {},
   "outputs": [
    {
     "data": {
      "text/plain": [
       "{'arjun', 'bhagwati', 'dhriti', 'tejas'}"
      ]
     },
     "execution_count": 8,
     "metadata": {},
     "output_type": "execute_result"
    }
   ],
   "source": [
    "set_var"
   ]
  },
  {
   "cell_type": "code",
   "execution_count": 9,
   "id": "a57918bd",
   "metadata": {},
   "outputs": [
    {
     "data": {
      "text/plain": [
       "set"
      ]
     },
     "execution_count": 9,
     "metadata": {},
     "output_type": "execute_result"
    }
   ],
   "source": [
    "type(set_var)"
   ]
  },
  {
   "cell_type": "code",
   "execution_count": 10,
   "id": "415bebe4",
   "metadata": {},
   "outputs": [
    {
     "ename": "TypeError",
     "evalue": "'set' object is not subscriptable",
     "output_type": "error",
     "traceback": [
      "\u001b[1;31m---------------------------------------------------------------------------\u001b[0m",
      "\u001b[1;31mTypeError\u001b[0m                                 Traceback (most recent call last)",
      "\u001b[1;32m<ipython-input-10-7328905fb9f6>\u001b[0m in \u001b[0;36m<module>\u001b[1;34m\u001b[0m\n\u001b[0;32m      1\u001b[0m \u001b[1;31m#sets does not use indexing for retrieving element\u001b[0m\u001b[1;33m\u001b[0m\u001b[1;33m\u001b[0m\u001b[1;33m\u001b[0m\u001b[0m\n\u001b[1;32m----> 2\u001b[1;33m \u001b[0mset_var\u001b[0m\u001b[1;33m[\u001b[0m\u001b[1;36m1\u001b[0m\u001b[1;33m]\u001b[0m\u001b[1;33m\u001b[0m\u001b[1;33m\u001b[0m\u001b[0m\n\u001b[0m",
      "\u001b[1;31mTypeError\u001b[0m: 'set' object is not subscriptable"
     ]
    }
   ],
   "source": [
    "#sets does not use indexing for retrieving element\n",
    "set_var[1]"
   ]
  },
  {
   "cell_type": "code",
   "execution_count": 11,
   "id": "eb09ae20",
   "metadata": {},
   "outputs": [],
   "source": [
    "#here we can see that it is giving error that object set is not subscriptable\n",
    "# in built functions in sets\n",
    "set_var.add(\"megha\")"
   ]
  },
  {
   "cell_type": "code",
   "execution_count": 12,
   "id": "c887cb90",
   "metadata": {},
   "outputs": [
    {
     "data": {
      "text/plain": [
       "{'arjun', 'bhagwati', 'dhriti', 'megha', 'tejas'}"
      ]
     },
     "execution_count": 12,
     "metadata": {},
     "output_type": "execute_result"
    }
   ],
   "source": [
    "set_var\n",
    "#it will print set in alphabetical order"
   ]
  },
  {
   "cell_type": "code",
   "execution_count": 15,
   "id": "757581e9",
   "metadata": {},
   "outputs": [
    {
     "data": {
      "text/plain": [
       "{8, 13, 15, 19}"
      ]
     },
     "execution_count": 15,
     "metadata": {},
     "output_type": "execute_result"
    }
   ],
   "source": [
    "set1={1,4,5,6,9,10,16,18}\n",
    "set2={1,4,8,6,10,15,13,19}\n",
    "set2.difference(set1)"
   ]
  },
  {
   "cell_type": "code",
   "execution_count": 16,
   "id": "662da036",
   "metadata": {},
   "outputs": [],
   "source": [
    "set2.difference_update(set1)"
   ]
  },
  {
   "cell_type": "code",
   "execution_count": 17,
   "id": "05158193",
   "metadata": {},
   "outputs": [
    {
     "data": {
      "text/plain": [
       "{8, 13, 15, 19}"
      ]
     },
     "execution_count": 17,
     "metadata": {},
     "output_type": "execute_result"
    }
   ],
   "source": [
    "set2"
   ]
  },
  {
   "cell_type": "code",
   "execution_count": 21,
   "id": "6a8c2c0b",
   "metadata": {},
   "outputs": [
    {
     "data": {
      "text/plain": [
       "{8, 13, 15, 19}"
      ]
     },
     "execution_count": 21,
     "metadata": {},
     "output_type": "execute_result"
    }
   ],
   "source": [
    "# so here if i use difference it will only give me difference of the set  but if i use difference .update it will provide me \n",
    "#an updated set\n",
    "set2"
   ]
  },
  {
   "cell_type": "code",
   "execution_count": 19,
   "id": "475a0798",
   "metadata": {},
   "outputs": [
    {
     "data": {
      "text/plain": [
       "{8, 13, 15, 19}"
      ]
     },
     "execution_count": 19,
     "metadata": {},
     "output_type": "execute_result"
    }
   ],
   "source": [
    "set2"
   ]
  },
  {
   "cell_type": "code",
   "execution_count": 22,
   "id": "78cf4463",
   "metadata": {},
   "outputs": [],
   "source": [
    "set3={1,5,8,19,10,15,13,18,16,15}"
   ]
  },
  {
   "cell_type": "code",
   "execution_count": 23,
   "id": "d69e98b4",
   "metadata": {},
   "outputs": [
    {
     "data": {
      "text/plain": [
       "{1, 5, 8, 10, 13, 15, 16, 18, 19}"
      ]
     },
     "execution_count": 23,
     "metadata": {},
     "output_type": "execute_result"
    }
   ],
   "source": [
    "set3"
   ]
  },
  {
   "cell_type": "code",
   "execution_count": 24,
   "id": "24a1ec95",
   "metadata": {},
   "outputs": [
    {
     "data": {
      "text/plain": [
       "{8, 13, 15, 19}"
      ]
     },
     "execution_count": 24,
     "metadata": {},
     "output_type": "execute_result"
    }
   ],
   "source": [
    "set3.intersection(set2)"
   ]
  },
  {
   "cell_type": "code",
   "execution_count": 26,
   "id": "b9223e9c",
   "metadata": {},
   "outputs": [
    {
     "data": {
      "text/plain": [
       "1"
      ]
     },
     "execution_count": 26,
     "metadata": {},
     "output_type": "execute_result"
    }
   ],
   "source": [
    "set3.pop()\n",
    "#it will delete first element of set "
   ]
  },
  {
   "cell_type": "code",
   "execution_count": 27,
   "id": "db39e3fa",
   "metadata": {},
   "outputs": [
    {
     "data": {
      "text/plain": [
       "{5, 8, 10, 13, 15, 16, 18, 19}"
      ]
     },
     "execution_count": 27,
     "metadata": {},
     "output_type": "execute_result"
    }
   ],
   "source": [
    "set3"
   ]
  },
  {
   "cell_type": "code",
   "execution_count": 29,
   "id": "5eafb3c9",
   "metadata": {},
   "outputs": [
    {
     "data": {
      "text/plain": [
       "dict"
      ]
     },
     "execution_count": 29,
     "metadata": {},
     "output_type": "execute_result"
    }
   ],
   "source": [
    "# a dictionary is a collection which is unordered , changeable and indexed.it has key value pair\n",
    "dic={}\n",
    "type(dic)"
   ]
  },
  {
   "cell_type": "code",
   "execution_count": 30,
   "id": "7d3f31b7",
   "metadata": {},
   "outputs": [
    {
     "data": {
      "text/plain": [
       "12346"
      ]
     },
     "execution_count": 30,
     "metadata": {},
     "output_type": "execute_result"
    }
   ],
   "source": [
    "my_dic={\"Bhagwati\":81901931,\"Tejas\":12346,\"sargun\":234556,\"parul\":125678}\n",
    "my_dic[\"Tejas\"]\n"
   ]
  },
  {
   "cell_type": "code",
   "execution_count": 35,
   "id": "f20577f5",
   "metadata": {},
   "outputs": [
    {
     "name": "stdout",
     "output_type": "stream",
     "text": [
      "Bhagwati\n",
      "Tejas\n",
      "sargun\n",
      "parul\n"
     ]
    }
   ],
   "source": [
    "for x in my_dic:\n",
    "    print (x)\n",
    "    #it will give all the key of dictionary"
   ]
  },
  {
   "cell_type": "code",
   "execution_count": 36,
   "id": "7a733b67",
   "metadata": {},
   "outputs": [
    {
     "name": "stdout",
     "output_type": "stream",
     "text": [
      "81901931\n",
      "12346\n",
      "234556\n",
      "125678\n"
     ]
    }
   ],
   "source": [
    "for x in my_dic.values():\n",
    "    print(x)\n",
    "    #it will provide all the values of corresponding keys"
   ]
  },
  {
   "cell_type": "code",
   "execution_count": 37,
   "id": "917b8fd1",
   "metadata": {},
   "outputs": [
    {
     "name": "stdout",
     "output_type": "stream",
     "text": [
      "('Bhagwati', 81901931)\n",
      "('Tejas', 12346)\n",
      "('sargun', 234556)\n",
      "('parul', 125678)\n"
     ]
    }
   ],
   "source": [
    "#we can check both key and values \n",
    "for x in my_dic.items():\n",
    "    print(x)"
   ]
  },
  {
   "cell_type": "code",
   "execution_count": 38,
   "id": "02770451",
   "metadata": {},
   "outputs": [],
   "source": [
    "# for adding a new value\n",
    "my_dic[\"Arjun\"]=15678"
   ]
  },
  {
   "cell_type": "code",
   "execution_count": 39,
   "id": "55dd49e9",
   "metadata": {},
   "outputs": [
    {
     "data": {
      "text/plain": [
       "{'Bhagwati': 81901931,\n",
       " 'Tejas': 12346,\n",
       " 'sargun': 234556,\n",
       " 'parul': 125678,\n",
       " 'Arjun': 15678}"
      ]
     },
     "execution_count": 39,
     "metadata": {},
     "output_type": "execute_result"
    }
   ],
   "source": [
    "my_dic"
   ]
  },
  {
   "cell_type": "code",
   "execution_count": 40,
   "id": "faaea16a",
   "metadata": {},
   "outputs": [],
   "source": [
    "#if we want to replace some key value\n",
    "my_dic[\"Bhagwati\"]=9868106934"
   ]
  },
  {
   "cell_type": "code",
   "execution_count": 41,
   "id": "de959a9a",
   "metadata": {},
   "outputs": [
    {
     "data": {
      "text/plain": [
       "{'Bhagwati': 9868106934,\n",
       " 'Tejas': 12346,\n",
       " 'sargun': 234556,\n",
       " 'parul': 125678,\n",
       " 'Arjun': 15678}"
      ]
     },
     "execution_count": 41,
     "metadata": {},
     "output_type": "execute_result"
    }
   ],
   "source": [
    "my_dic"
   ]
  },
  {
   "cell_type": "code",
   "execution_count": 45,
   "id": "e58ab4c6",
   "metadata": {},
   "outputs": [],
   "source": [
    "# nested dictionary\n",
    "name1={\"Bhawana\":\"female\"}\n",
    "name2={\"Tejas\":\"male\"}\n",
    "name3={\"Megha\":\"female\"}\n",
    "name={\"first\":name1,\"second\":name2,\"third\":name3}"
   ]
  },
  {
   "cell_type": "code",
   "execution_count": 46,
   "id": "090661f6",
   "metadata": {},
   "outputs": [
    {
     "data": {
      "text/plain": [
       "{'first': {'Bhawana': 'female'},\n",
       " 'second': {'Tejas': 'male'},\n",
       " 'third': {'Megha': 'female'}}"
      ]
     },
     "execution_count": 46,
     "metadata": {},
     "output_type": "execute_result"
    }
   ],
   "source": [
    "name"
   ]
  },
  {
   "cell_type": "code",
   "execution_count": 49,
   "id": "f7d85504",
   "metadata": {},
   "outputs": [
    {
     "name": "stdout",
     "output_type": "stream",
     "text": [
      "{'Bhawana': 'female'}\n"
     ]
    }
   ],
   "source": [
    "print(name[\"first\"])"
   ]
  },
  {
   "cell_type": "code",
   "execution_count": 50,
   "id": "95f92620",
   "metadata": {},
   "outputs": [
    {
     "name": "stdout",
     "output_type": "stream",
     "text": [
      "female\n"
     ]
    }
   ],
   "source": [
    "print(name[\"first\"][\"Bhawana\"])"
   ]
  },
  {
   "cell_type": "code",
   "execution_count": 53,
   "id": "e96f53fc",
   "metadata": {},
   "outputs": [],
   "source": [
    "# Tuples are not mutable it is genarally used where definition of a programme is used only once \n",
    "#we cant change the items of a tuple however we can replace the whole tuple with new items\n",
    "my_tuple=(\"bhagwati\",\"parul\",\"ekankshi\")"
   ]
  },
  {
   "cell_type": "code",
   "execution_count": 54,
   "id": "65f58057",
   "metadata": {},
   "outputs": [
    {
     "data": {
      "text/plain": [
       "'bhagwati'"
      ]
     },
     "execution_count": 54,
     "metadata": {},
     "output_type": "execute_result"
    }
   ],
   "source": [
    "my_tuple[0]"
   ]
  },
  {
   "cell_type": "code",
   "execution_count": 55,
   "id": "e22c1767",
   "metadata": {},
   "outputs": [
    {
     "data": {
      "text/plain": [
       "tuple"
      ]
     },
     "execution_count": 55,
     "metadata": {},
     "output_type": "execute_result"
    }
   ],
   "source": [
    "type(my_tuple)"
   ]
  },
  {
   "cell_type": "code",
   "execution_count": 58,
   "id": "0f056299",
   "metadata": {},
   "outputs": [
    {
     "data": {
      "text/plain": [
       "1"
      ]
     },
     "execution_count": 58,
     "metadata": {},
     "output_type": "execute_result"
    }
   ],
   "source": [
    "my_tuple.count(\"bhagwati\")\n",
    "#it will count number of times bhagwati in the tuple"
   ]
  },
  {
   "cell_type": "code",
   "execution_count": 59,
   "id": "b7f4f377",
   "metadata": {},
   "outputs": [
    {
     "data": {
      "text/plain": [
       "1"
      ]
     },
     "execution_count": 59,
     "metadata": {},
     "output_type": "execute_result"
    }
   ],
   "source": [
    "my_tuple.index(\"parul\")"
   ]
  }
 ],
 "metadata": {
  "kernelspec": {
   "display_name": "Python 3",
   "language": "python",
   "name": "python3"
  },
  "language_info": {
   "codemirror_mode": {
    "name": "ipython",
    "version": 3
   },
   "file_extension": ".py",
   "mimetype": "text/x-python",
   "name": "python",
   "nbconvert_exporter": "python",
   "pygments_lexer": "ipython3",
   "version": "3.8.8"
  }
 },
 "nbformat": 4,
 "nbformat_minor": 5
}
